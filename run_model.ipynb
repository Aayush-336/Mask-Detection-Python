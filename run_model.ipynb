{
 "cells": [
  {
   "cell_type": "code",
   "execution_count": 1,
   "metadata": {},
   "outputs": [],
   "source": [
    "import cv2\n",
    "import pickle\n",
    "with open('ml_module.pkl','rb') as fp:\n",
    "    svm = pickle.load(fp)\n",
    "haar_data = cv2.CascadeClassifier('haarcascade_frontalface_default.xml')"
   ]
  },
  {
   "cell_type": "code",
   "execution_count": 2,
   "metadata": {},
   "outputs": [],
   "source": [
    "def rounder(a,b,c):\n",
    "    if a-b<c:\n",
    "        return c\n",
    "    return a-b"
   ]
  },
  {
   "cell_type": "code",
   "execution_count": 3,
   "metadata": {},
   "outputs": [],
   "source": [
    "category = ['Mask','No Mask']\n",
    "haar_data = cv2.CascadeClassifier('haarcascade_frontalface_default.xml')\n",
    "data = []\n",
    "cap = cv2.VideoCapture(0)\n",
    "font = cv2.FONT_HERSHEY_COMPLEX\n",
    "size = 4\n",
    "while True:\n",
    "    flag,img = cap.read()\n",
    "    if flag:\n",
    "        im = img\n",
    "        # new_img = cv2.cvtColor(img,cv2.COLOR_BGR2GRAY)\n",
    "        mini = cv2.resize(im, (im.shape[1] // size, im.shape[0] // size))\n",
    "\n",
    "        rect_arr = haar_data.detectMultiScale(mini)        \n",
    "        for f in rect_arr:\n",
    "            x,y,w,h = [v*size for v in f]\n",
    "            cv2.rectangle(img,(x,y),(x+w,y+w),(255,0,255),2)\n",
    "            face = img[y:y+h,x:x+w,:]\n",
    "            face = cv2.resize(face,(150,150))\n",
    "            face = face.reshape(1,-1)\n",
    "            # pred_prob = svm.predict_proba(face)\n",
    "            pred = svm.predict(face)\n",
    "            n = category[int(max(pred))] #+\"  \"+ str('%.2f'%(max(pred_prob[0])*100)) +'%'\n",
    "            cv2.putText(img,n,(x,y),font,1,(230,230,230),2)\n",
    "\n",
    "        cv2.imshow('result',img)\n",
    "        if cv2.waitKey(2) == 27:\n",
    "            break\n",
    "cap.release()\n",
    "cv2.destroyAllWindows()\n",
    "    "
   ]
  },
  {
   "cell_type": "code",
   "execution_count": 10,
   "metadata": {},
   "outputs": [
    {
     "name": "stdout",
     "output_type": "stream",
     "text": [
      "1.png\n",
      "2.jpg\n",
      "3.jpg\n"
     ]
    }
   ],
   "source": [
    "import os\n",
    "category = ['Mask','No Mask']\n",
    "font = cv2.FONT_HERSHEY_COMPLEX\n",
    "\n",
    "fil = r\"C:\\Users\\AAYUSH\\Desktop\\Mask-Detection-Python\\tests\"\n",
    "for img_path in os.listdir(fil):\n",
    "    print(img_path)\n",
    "    img = cv2.imread(os.path.join(fil,img_path))\n",
    "    new_img = cv2.cvtColor(img,cv2.COLOR_BGR2GRAY)\n",
    "    rect_arr = haar_data.detectMultiScale(new_img)        \n",
    "        \n",
    "    for x,y,w,h in rect_arr:\n",
    "        x1,y1 = x+w,y+h\n",
    "        x,y,x1,y1 = rounder(x,15,0),rounder(y,10,0),rounder(x1,-10,0),rounder(y1,-15,0)\n",
    "\n",
    "        cv2.rectangle(img,(x,y),(x1,y1),(0,128,0),2)\n",
    "        face = img[y:y+h,x:x+w,:]\n",
    "        face = cv2.resize(face,(100,100))\n",
    "        face = face.reshape(1,-1)\n",
    "        pred_prob = svm.predict_proba(face)\n",
    "        pred = svm.predict(face)\n",
    "        n = category[int(max(pred))] +\"  \"+ str('%.2f'%(max(pred_prob[0])*100)) +'%'\n",
    "        # cv2.putText(img,n,(x-10,y+20),font,0.5,(250,0,0),1)\n",
    "    while True:\n",
    "        cv2.imshow('result',img)\n",
    "        if cv2.waitKey(2) == 27:\n",
    "            break\n",
    "cv2.destroyAllWindows()"
   ]
  }
 ],
 "metadata": {
  "interpreter": {
   "hash": "e2a7c3d20469dda411fd3211f02092a920078d1ca97c72d3dc7928b841d3a44a"
  },
  "kernelspec": {
   "display_name": "Python 3.9.7 64-bit",
   "name": "python3"
  },
  "language_info": {
   "codemirror_mode": {
    "name": "ipython",
    "version": 3
   },
   "file_extension": ".py",
   "mimetype": "text/x-python",
   "name": "python",
   "nbconvert_exporter": "python",
   "pygments_lexer": "ipython3",
   "version": "3.9.7"
  }
 },
 "nbformat": 4,
 "nbformat_minor": 5
}
