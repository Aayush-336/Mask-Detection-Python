{
 "cells": [
  {
   "cell_type": "code",
   "execution_count": 1,
   "source": [
    "import cv2\r\n",
    "import pickle\r\n",
    "with open('ml_module.pkl','rb') as fp:\r\n",
    "    svm = pickle.load(fp)\r\n",
    "haar_data = cv2.CascadeClassifier('haarcascade_frontalface_default.xml')"
   ],
   "outputs": [
    {
     "output_type": "stream",
     "name": "stderr",
     "text": [
      "C:\\Users\\AAYUSH\\AppData\\Roaming\\Python\\Python39\\site-packages\\sklearn\\base.py:310: UserWarning: Trying to unpickle estimator SVC from version 0.24.1 when using version 0.24.2. This might lead to breaking code or invalid results. Use at your own risk.\n",
      "  warnings.warn(\n"
     ]
    }
   ],
   "metadata": {}
  },
  {
   "cell_type": "code",
   "execution_count": 2,
   "source": [
    "category = ['Mask','No Mask']\r\n",
    "haar_data = cv2.CascadeClassifier('haarcascade_frontalface_default.xml')\r\n",
    "data = []\r\n",
    "cap = cv2.VideoCapture(0)\r\n",
    "font = cv2.FONT_HERSHEY_COMPLEX\r\n",
    "while True:\r\n",
    "    flag,img = cap.read()\r\n",
    "    if flag:\r\n",
    "        rect_arr = haar_data.detectMultiScale(img)        \r\n",
    "        \r\n",
    "        for x,y,w,h in rect_arr:\r\n",
    "            cv2.rectangle(img,(x,y),(x+w,y+w),(255,0,255),4)\r\n",
    "            face = img[y:y+h,x:x+w,:]\r\n",
    "            face = cv2.resize(face,(100,100))\r\n",
    "            face = face.reshape(1,-1)\r\n",
    "            pred_prob = svm.predict_proba(face)\r\n",
    "            pred = svm.predict(face)\r\n",
    "            n = category[int(max(pred))] +\"  \"+ str('%.2f'%(max(pred_prob[0])*100)) +'%'\r\n",
    "            cv2.putText(img,n,(x,y),font,1,(230,230,230),2)\r\n",
    "\r\n",
    "        cv2.imshow('result',img)\r\n",
    "        if cv2.waitKey(2) == 27:\r\n",
    "            break\r\n",
    "cap.release()\r\n",
    "cv2.destroyAllWindows()\r\n",
    "    "
   ],
   "outputs": [],
   "metadata": {}
  }
 ],
 "metadata": {
  "kernelspec": {
   "name": "python3",
   "display_name": "Python 3.9.1 64-bit"
  },
  "language_info": {
   "codemirror_mode": {
    "name": "ipython",
    "version": 3
   },
   "file_extension": ".py",
   "mimetype": "text/x-python",
   "name": "python",
   "nbconvert_exporter": "python",
   "pygments_lexer": "ipython3",
   "version": "3.9.1"
  },
  "interpreter": {
   "hash": "ac59ebe37160ed0dfa835113d9b8498d9f09ceb179beaac4002f036b9467c963"
  }
 },
 "nbformat": 4,
 "nbformat_minor": 5
}