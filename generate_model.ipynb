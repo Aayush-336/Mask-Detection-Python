{
 "cells": [
  {
   "cell_type": "code",
   "execution_count": 1,
   "source": [
    "import numpy as np\r\n",
    "import cv2"
   ],
   "outputs": [],
   "metadata": {}
  },
  {
   "cell_type": "code",
   "execution_count": 2,
   "source": [
    "with_mask = np.load('with_mask.npy')\r\n",
    "without_mask = np.load('without_mask.npy')"
   ],
   "outputs": [],
   "metadata": {}
  },
  {
   "cell_type": "code",
   "execution_count": 4,
   "source": [
    "with_mask = with_mask.reshape(with_mask.shape[0],100*100*3)\r\n",
    "without_mask = without_mask.reshape(without_mask.shape[0],100*100*3)"
   ],
   "outputs": [],
   "metadata": {}
  },
  {
   "cell_type": "code",
   "execution_count": 5,
   "source": [
    "X = np.r_[with_mask,without_mask]"
   ],
   "outputs": [],
   "metadata": {}
  },
  {
   "cell_type": "code",
   "execution_count": 6,
   "source": [
    "labels = np.zeros(X.shape[0])"
   ],
   "outputs": [],
   "metadata": {}
  },
  {
   "cell_type": "code",
   "execution_count": 7,
   "source": [
    "labels[with_mask.shape[0]:] = 1.0"
   ],
   "outputs": [],
   "metadata": {}
  },
  {
   "cell_type": "code",
   "execution_count": 8,
   "source": [
    "from sklearn.svm import SVC\r\n",
    "from sklearn.metrics import accuracy_score"
   ],
   "outputs": [],
   "metadata": {}
  },
  {
   "cell_type": "code",
   "execution_count": 9,
   "source": [
    "from sklearn.model_selection import train_test_split"
   ],
   "outputs": [],
   "metadata": {}
  },
  {
   "cell_type": "code",
   "execution_count": 10,
   "source": [
    "x_train , x_test ,y_train , y_test = train_test_split(X,labels,test_size = 0.05)"
   ],
   "outputs": [],
   "metadata": {}
  },
  {
   "cell_type": "code",
   "execution_count": 13,
   "source": [
    "svm = SVC(probability = True)\r\n",
    "svm.fit(x_train,y_train)\r\n",
    "# print(y_train)"
   ],
   "outputs": [
    {
     "output_type": "execute_result",
     "data": {
      "text/plain": [
       "SVC(probability=True)"
      ]
     },
     "metadata": {},
     "execution_count": 13
    }
   ],
   "metadata": {}
  },
  {
   "cell_type": "code",
   "execution_count": 14,
   "source": [
    "y_pred = svm.predict(x_test)"
   ],
   "outputs": [],
   "metadata": {}
  },
  {
   "cell_type": "code",
   "execution_count": 15,
   "source": [
    "accuracy_score(y_test,y_pred)"
   ],
   "outputs": [
    {
     "output_type": "execute_result",
     "data": {
      "text/plain": [
       "0.9114583333333334"
      ]
     },
     "metadata": {},
     "execution_count": 15
    }
   ],
   "metadata": {}
  },
  {
   "cell_type": "code",
   "execution_count": 150,
   "source": [
    "category = ['Mask','No Mask']\r\n",
    "haar_data = cv2.CascadeClassifier('haarcascade_frontalface_default.xml')\r\n",
    "data = []\r\n",
    "cap = cv2.VideoCapture(0)\r\n",
    "font = cv2.FONT_HERSHEY_COMPLEX\r\n",
    "while True:\r\n",
    "    flag,img = cap.read()\r\n",
    "    if flag:\r\n",
    "        rect_arr = haar_data.detectMultiScale(img)        \r\n",
    "        \r\n",
    "        for x,y,w,h in rect_arr:\r\n",
    "            cv2.rectangle(img,(x,y),(x+w,y+w),(255,0,255),4)\r\n",
    "            face = img[y:y+h,x:x+w,:]\r\n",
    "            face = cv2.resize(face,(100,100))\r\n",
    "            face = face.reshape(1,-1)\r\n",
    "#             face = pca.transform(face)\r\n",
    "            pred = svm.predict(face)\r\n",
    "            n = category[int(pred)]\r\n",
    "            cv2.putText(img,n,(x,y),font,1,(230,230,230),2)\r\n",
    "\r\n",
    "        cv2.imshow('result',img)\r\n",
    "        if cv2.waitKey(2) == 27:\r\n",
    "            break\r\n",
    "cap.release()\r\n",
    "cv2.destroyAllWindows()\r\n",
    "    "
   ],
   "outputs": [],
   "metadata": {}
  },
  {
   "cell_type": "code",
   "execution_count": 17,
   "source": [
    "import pickle\r\n",
    "with open('ml_module.pkl','wb') as fp:\r\n",
    "    pickle.dump(svm,fp)"
   ],
   "outputs": [],
   "metadata": {}
  }
 ],
 "metadata": {
  "kernelspec": {
   "display_name": "Python 3",
   "language": "python",
   "name": "python3"
  },
  "language_info": {
   "codemirror_mode": {
    "name": "ipython",
    "version": 3
   },
   "file_extension": ".py",
   "mimetype": "text/x-python",
   "name": "python",
   "nbconvert_exporter": "python",
   "pygments_lexer": "ipython3",
   "version": "3.8.8"
  }
 },
 "nbformat": 4,
 "nbformat_minor": 5
}