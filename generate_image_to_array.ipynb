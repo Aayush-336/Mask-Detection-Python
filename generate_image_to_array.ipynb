{
 "cells": [
  {
   "cell_type": "code",
   "execution_count": 1,
   "source": [
    "# !pip install opencv-python "
   ],
   "outputs": [],
   "metadata": {}
  },
  {
   "cell_type": "code",
   "execution_count": 10,
   "source": [
    "import cv2\r\n",
    "import os\r\n",
    "import numpy as np"
   ],
   "outputs": [],
   "metadata": {}
  },
  {
   "cell_type": "code",
   "execution_count": 43,
   "source": [
    "directory = r\"C:\\Users\\AAYUSH\\Untitled Folder\\dataset\"\r\n",
    "categories = ['with_mask','without_mask']"
   ],
   "outputs": [],
   "metadata": {}
  },
  {
   "cell_type": "code",
   "execution_count": 39,
   "source": [
    "haar_data = cv2.CascadeClassifier('haarcascade_frontalface_default.xml')"
   ],
   "outputs": [],
   "metadata": {}
  },
  {
   "cell_type": "code",
   "execution_count": 44,
   "source": [
    "#To train model on given Dataset\r\n",
    "data = []\r\n",
    "for category in categories:\r\n",
    "    path = os.path.join(directory,category)\r\n",
    "    data.clear()\r\n",
    "    for img in os.listdir(path):\r\n",
    "        img_path = os.path.join(path,img)\r\n",
    "        image = cv2.imread(img_path)\r\n",
    "        image = cv2.resize(image,(100,100))\r\n",
    "        data.append(image)\r\n",
    "        \r\n",
    "    np.save(category+'.npy',data)"
   ],
   "outputs": [
    {
     "output_type": "stream",
     "name": "stdout",
     "text": [
      "1915\n",
      "1918\n"
     ]
    }
   ],
   "metadata": {}
  },
  {
   "cell_type": "code",
   "execution_count": 41,
   "source": [
    "#To Train model on your face\r\n",
    "\r\n",
    "data2 = []\r\n",
    "cap = cv2.VideoCapture(0)\r\n",
    "while True:\r\n",
    "    flag,img = cap.read()\r\n",
    "    if flag:\r\n",
    "        rect_arr = haar_data.detectMultiScale(img)        \r\n",
    "        for x,y,w,h in rect_arr:\r\n",
    "            cv2.rectangle(img,(x,y),(x+w,y+w),(255,0,255),4)\r\n",
    "            face = img[y:y+h,x:x+w,:]\r\n",
    "            face = cv2.resize(face,(100,100))\r\n",
    "            data2.append(face)\r\n",
    "        cv2.imshow('result',img)\r\n",
    "        if cv2.waitKey(2) == 27 or len(data2)>100:\r\n",
    "            break\r\n",
    "\r\n",
    "cap.release()\r\n",
    "cv2.destroyAllWindows()\r\n",
    "data.extend(data2)\r\n",
    "np.save(category+'.npy',data)\r\n"
   ],
   "outputs": [
    {
     "output_type": "stream",
     "name": "stdout",
     "text": [
      "2016\n"
     ]
    }
   ],
   "metadata": {}
  }
 ],
 "metadata": {
  "kernelspec": {
   "display_name": "Python 3",
   "language": "python",
   "name": "python3"
  },
  "language_info": {
   "codemirror_mode": {
    "name": "ipython",
    "version": 3
   },
   "file_extension": ".py",
   "mimetype": "text/x-python",
   "name": "python",
   "nbconvert_exporter": "python",
   "pygments_lexer": "ipython3",
   "version": "3.8.8"
  }
 },
 "nbformat": 4,
 "nbformat_minor": 5
}